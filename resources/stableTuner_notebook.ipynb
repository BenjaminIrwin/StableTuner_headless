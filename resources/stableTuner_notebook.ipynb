{
 "cells": [
  {
   "attachments": {},
   "cell_type": "markdown",
   "metadata": {},
   "source": [
    "\n",
    "# Welcome to StableTuner, Let's get started!\n",
    "#### This notebook will guide you through the setup process.\n",
    "\n",
    "\n",
    "__[Join the ST Discord for support, chat and fun times :)](https://discord.gg/DahNECrBUZ)__"
   ]
  },
  {
   "attachments": {},
   "cell_type": "markdown",
   "metadata": {},
   "source": [
    "#### Start by uploading your payload.zip file (just drag and drop it to the file area) and run this cell as it gets uploaded."
   ]
  },
  {
   "cell_type": "code",
   "execution_count": null,
   "metadata": {},
   "outputs": [],
   "source": [
    "#Much thanks to IndustriaDitat and entmike for helping making ST linux compatible!\n",
    "from IPython.display import clear_output\n",
    "from subprocess import getoutput\n",
    "installed_xformers = False\n",
    "GPU_CardName = getoutput('nvidia-smi --query-gpu=name --format=csv,noheader')\n",
    "\n",
    "%pip install torch==1.12.1+cu116 torchvision==0.13.1+cu116 --extra-index-url \"https://download.pytorch.org/whl/cu116\"\n",
    "%pip install -U --pre triton\n",
    "%pip install ninja bitsandbytes\n",
    "if '3090' in GPU_CardName:\n",
    "    %pip install https://huggingface.co/industriaditat/xformers_precompiles/resolve/main/RTX3090-xf14-cu116-py38/xformers-0.0.14.dev0-cp38-cp38-linux_x86_64.whl\n",
    "    installed_xformers = True\n",
    "if 'A5000' in GPU_CardName:\n",
    "    %pip install https://huggingface.co/industriaditat/xformers_precompiles/resolve/main/A5000-xf14-cu116-py38/xformers-0.0.14.dev0-cp38-cp38-linux_x86_64.whl\n",
    "    installed_xformers = True\n",
    "if 'T4' in GPU_CardName:\n",
    "    %pip install https://huggingface.co/r4ziel/xformers_pre_built/resolve/main/xformers-0.0.14.dev0-cp38-cp38-linux_x86_64_t4.whl\n",
    "    installed_xformers = True\n",
    "if 'A100' in GPU_CardName:\n",
    "    %pip install https://huggingface.co/industriaditat/xformers_precompiles/resolve/main/A100_13dev/xformers-0.0.13.dev0-py3-none-any.whl\n",
    "    installed_xformers = True\n",
    "if 'V100' in GPU_CardName:\n",
    "    %pip install https://huggingface.co/industriaditat/xformers_precompiles/resolve/main/V100_13dev/xformers-0.0.13.dev0-py3-none-any.whl\n",
    "    installed_xformers = True\n",
    "if installed_xformers == False:\n",
    "    clear_output()\n",
    "    print(\"No precompiled xformers found for your GPU. Please wait while we compile xformers for your GPU, this might take 20-40 minutes.\")\n",
    "    %pip install git+https://github.com/facebookresearch/xformers@1d31a3a#egg=xformers\n",
    "%pip install git+https://github.com/huggingface/diffusers.git@0ca1724#egg=diffusers --force-reinstall\n",
    "clear_output()\n",
    "print(\"Done!\")"
   ]
  },
  {
   "attachments": {},
   "cell_type": "markdown",
   "metadata": {},
   "source": [
    "#### Upload finished?, time to run this next cell!"
   ]
  },
  {
   "cell_type": "code",
   "execution_count": null,
   "metadata": {},
   "outputs": [],
   "source": [
    "!unzip -o -q payload.zip\n",
    "%pip install -r requirements.txt\n",
    "clear_output()\n",
    "print(\"Done!\")"
   ]
  },
  {
   "attachments": {},
   "cell_type": "markdown",
   "metadata": {},
   "source": [
    "#### Looks like you're done installing, let's get started!\n",
    "\n"
   ]
  },
  {
   "cell_type": "code",
   "execution_count": null,
   "metadata": {},
   "outputs": [],
   "source": [
    "changeMe"
   ]
  }
 ],
 "metadata": {
  "kernelspec": {
   "display_name": "Python 3",
   "language": "python",
   "name": "python3"
  },
  "language_info": {
   "codemirror_mode": {
    "name": "ipython",
    "version": 3
   },
   "file_extension": ".py",
   "mimetype": "text/x-python",
   "name": "python",
   "nbconvert_exporter": "python",
   "pygments_lexer": "ipython3",
   "version": "3.10.9 (tags/v3.10.9:1dd9be6, Dec  6 2022, 20:01:21) [MSC v.1934 64 bit (AMD64)]"
  },
  "orig_nbformat": 4,
  "vscode": {
   "interpreter": {
    "hash": "886cb931ea414ad2a87adcccbb1ce9166879eb6056301acd331591c6290ceca8"
   }
  }
 },
 "nbformat": 4,
 "nbformat_minor": 2
}
